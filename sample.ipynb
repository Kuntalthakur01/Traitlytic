{
 "cells": [
  {
   "cell_type": "code",
   "execution_count": 12,
   "metadata": {},
   "outputs": [
    {
     "name": "stderr",
     "output_type": "stream",
     "text": [
      "Python(57795) MallocStackLogging: can't turn off malloc stack logging because it was not enabled.\n",
      "Python(57816) MallocStackLogging: can't turn off malloc stack logging because it was not enabled.\n"
     ]
    },
    {
     "name": "stdout",
     "output_type": "stream",
     "text": [
      "Error during LinkedIn login: Message: no such element: Unable to locate element: {\"method\":\"css selector\",\"selector\":\"[id=\"session_key\"]\"}\n",
      "  (Session info: chrome=131.0.6778.86); For documentation on this error, please visit: https://www.selenium.dev/documentation/webdriver/troubleshooting/errors#no-such-element-exception\n",
      "Stacktrace:\n",
      "0   chromedriver                        0x000000010542fac4 cxxbridge1$str$ptr + 3651580\n",
      "1   chromedriver                        0x0000000105428314 cxxbridge1$str$ptr + 3620940\n",
      "2   chromedriver                        0x0000000104e904b4 cxxbridge1$string$len + 89224\n",
      "3   chromedriver                        0x0000000104ed4898 cxxbridge1$string$len + 368748\n",
      "4   chromedriver                        0x0000000104f0e0fc cxxbridge1$string$len + 604368\n",
      "5   chromedriver                        0x0000000104ec90b0 cxxbridge1$string$len + 321668\n",
      "6   chromedriver                        0x0000000104ec9d00 cxxbridge1$string$len + 324820\n",
      "7   chromedriver                        0x00000001053fae08 cxxbridge1$str$ptr + 3435328\n",
      "8   chromedriver                        0x00000001053fe120 cxxbridge1$str$ptr + 3448408\n",
      "9   chromedriver                        0x00000001053e217c cxxbridge1$str$ptr + 3333812\n",
      "10  chromedriver                        0x00000001053fe9e0 cxxbridge1$str$ptr + 3450648\n",
      "11  chromedriver                        0x00000001053d3988 cxxbridge1$str$ptr + 3274432\n",
      "12  chromedriver                        0x00000001054190f4 cxxbridge1$str$ptr + 3558956\n",
      "13  chromedriver                        0x0000000105419270 cxxbridge1$str$ptr + 3559336\n",
      "14  chromedriver                        0x0000000105427f88 cxxbridge1$str$ptr + 3620032\n",
      "15  libsystem_pthread.dylib             0x00000001993282e4 _pthread_start + 136\n",
      "16  libsystem_pthread.dylib             0x00000001993230fc thread_start + 8\n",
      "\n",
      "Data saved to linkedin_profiles.csv\n"
     ]
    }
   ],
   "source": [
    "from selenium import webdriver\n",
    "from selenium.webdriver.common.by import By\n",
    "from selenium.webdriver.common.keys import Keys\n",
    "from bs4 import BeautifulSoup\n",
    "from bs4.element import Tag\n",
    "import time\n",
    "import csv\n",
    "from itertools import zip_longest\n",
    "\n",
    "# Initialize the WebDriver\n",
    "driver = webdriver.Chrome()  # This assumes ChromeDriver is installed and in PATH\n",
    "\n",
    "# Function to extract LinkedIn profiles from search results\n",
    "def find_profiles(result_div, links, titles, descriptions):\n",
    "    for r in result_div:\n",
    "        try:\n",
    "            link = r.find(\"a\", href=True)\n",
    "            title = r.find(\"h3\")\n",
    "            description = r.find(\"span\", attrs={\"class\": \"st\"})\n",
    "\n",
    "            # Ensure extracted elements are valid\n",
    "            if isinstance(title, Tag):\n",
    "                title = title.get_text()\n",
    "            if isinstance(description, Tag):\n",
    "                description = description.get_text()\n",
    "\n",
    "            if link and title and description:\n",
    "                links.append(link[\"href\"])\n",
    "                titles.append(title)\n",
    "                descriptions.append(description)\n",
    "        except Exception as e:\n",
    "            print(f\"Error while parsing: {e}\")\n",
    "            continue\n",
    "\n",
    "# Function to handle paginated search results\n",
    "def profiles_loop(links, titles, descriptions):\n",
    "    try:\n",
    "        soup = BeautifulSoup(driver.page_source, \"lxml\")\n",
    "        result_div = soup.find_all(\"div\", attrs={\"class\": \"g\"})\n",
    "        find_profiles(result_div, links, titles, descriptions)\n",
    "\n",
    "        # Click the \"Next\" button for pagination\n",
    "        next_button = driver.find_element(By.ID, \"pnnext\")\n",
    "        next_button.click()\n",
    "        time.sleep(2)  # Adjust sleep time as needed\n",
    "    except Exception as e:\n",
    "        print(f\"Error in profiles_loop: {e}\")\n",
    "\n",
    "# Initialize variables\n",
    "links = []\n",
    "titles = []\n",
    "descriptions = []\n",
    "\n",
    "# LinkedIn login\n",
    "try:\n",
    "    driver.get(\"https://www.linkedin.com\")\n",
    "    time.sleep(3)\n",
    "\n",
    "    # Locate login elements and input credentials\n",
    "    linkedin_username = \"kthakur9@asu.edu\"  # Replace with your LinkedIn username\n",
    "    linkedin_password = \"kkk123@&$\"          # Replace with your LinkedIn password\n",
    "\n",
    "    username_input = driver.find_element(By.ID, \"session_key\")\n",
    "    username_input.send_keys(linkedin_username)\n",
    "    time.sleep(0.5)\n",
    "\n",
    "    password_input = driver.find_element(By.ID, \"session_password\")\n",
    "    password_input.send_keys(linkedin_password)\n",
    "    time.sleep(0.5)\n",
    "\n",
    "    login_button = driver.find_element(By.CLASS_NAME, \"sign-in-form__submit-button\")\n",
    "    login_button.click()\n",
    "    time.sleep(3)\n",
    "except Exception as e:\n",
    "    print(f\"Error during LinkedIn login: {e}\")\n",
    "\n",
    "# Perform Google search\n",
    "try:\n",
    "    driver.get(\"https://www.google.com\")\n",
    "    time.sleep(2)\n",
    "\n",
    "    search_query = driver.find_element(By.NAME, \"q\")\n",
    "    search_query.send_keys('site:linkedin.com/in/ AND \"python developer\" AND \"London\"')\n",
    "    search_query.send_keys(Keys.RETURN)\n",
    "    time.sleep(3)\n",
    "except Exception as e:\n",
    "    print(f\"Error during Google search: {e}\")\n",
    "\n",
    "# Scrape multiple pages\n",
    "for _ in range(10):  # Adjust the number of pages to scrape\n",
    "    profiles_loop(links, titles, descriptions)\n",
    "\n",
    "# Save scraped data to a CSV file\n",
    "titles_short = [title.split()[0:2] for title in titles]\n",
    "output_file_name = \"linkedin_profiles.csv\"\n",
    "\n",
    "try:\n",
    "    data = zip_longest(titles_short, links)\n",
    "    with open(output_file_name, \"w\", encoding=\"ISO-8859-1\", newline=\"\") as file:\n",
    "        writer = csv.writer(file)\n",
    "        writer.writerow([\"Title\", \"Link\"])\n",
    "        writer.writerows(data)\n",
    "    print(f\"Data saved to {output_file_name}\")\n",
    "except Exception as e:\n",
    "    print(f\"Error saving data to CSV: {e}\")\n",
    "\n",
    "# Quit the driver\n",
    "driver.quit()"
   ]
  },
  {
   "cell_type": "code",
   "execution_count": 14,
   "metadata": {},
   "outputs": [
    {
     "name": "stderr",
     "output_type": "stream",
     "text": [
      "Python(58480) MallocStackLogging: can't turn off malloc stack logging because it was not enabled.\n"
     ]
    },
    {
     "name": "stdout",
     "output_type": "stream",
     "text": [
      "Fetching webrick-1.9.1.gem\n",
      "Fetching base64-0.2.0.gem\n",
      "Fetching nkf-0.2.0.gem\n",
      "Fetching webrobots-0.1.2.gem\n",
      "Fetching connection_pool-2.4.1.gem\n",
      "Fetching rubyntlm-0.6.5.gem\n",
      "Fetching random_user_agent-1.0.0.gem\n",
      "Fetching net-http-persistent-4.0.4.gem\n",
      "Fetching net-http-digest_auth-1.4.1.gem\n",
      "Fetching mime-types-data-3.2024.1105.gem\n",
      "Fetching mime-types-3.6.0.gem\n",
      "Fetching domain_name-0.6.20240107.gem\n",
      "Fetching http-cookie-1.0.7.gem\n",
      "Fetching public_suffix-6.0.1.gem\n",
      "Fetching addressable-2.8.7.gem\n",
      "Fetching mechanize-2.12.2.gem\n",
      "Fetching linkedin-scraper-2.1.1.gem\n",
      "ERROR:  While executing gem ... (Gem::FilePermissionError)\n",
      "    You don't have write permissions for the /Library/Ruby/Gems/2.6.0 directory.\n"
     ]
    }
   ],
   "source": [
    "!gem install linkedin-scraper"
   ]
  },
  {
   "cell_type": "code",
   "execution_count": null,
   "metadata": {},
   "outputs": [
    {
     "name": "stderr",
     "output_type": "stream",
     "text": [
      "Python(59425) MallocStackLogging: can't turn off malloc stack logging because it was not enabled.\n"
     ]
    },
    {
     "name": "stdout",
     "output_type": "stream",
     "text": [
      "Password:\n",
      "sudo: a password is required\n"
     ]
    },
    {
     "name": "stderr",
     "output_type": "stream",
     "text": [
      "Python(59607) MallocStackLogging: can't turn off malloc stack logging because it was not enabled.\n"
     ]
    }
   ],
   "source": [
    "!sudo gem install linkedin-scraper\n",
    "!gem install linkedin-scraper --user-install"
   ]
  },
  {
   "cell_type": "code",
   "execution_count": null,
   "metadata": {},
   "outputs": [],
   "source": []
  }
 ],
 "metadata": {
  "kernelspec": {
   "display_name": "venv",
   "language": "python",
   "name": "python3"
  },
  "language_info": {
   "codemirror_mode": {
    "name": "ipython",
    "version": 3
   },
   "file_extension": ".py",
   "mimetype": "text/x-python",
   "name": "python",
   "nbconvert_exporter": "python",
   "pygments_lexer": "ipython3",
   "version": "3.13.0"
  }
 },
 "nbformat": 4,
 "nbformat_minor": 2
}
